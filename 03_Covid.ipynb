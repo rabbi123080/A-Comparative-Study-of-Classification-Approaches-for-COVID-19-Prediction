{
  "nbformat": 4,
  "nbformat_minor": 0,
  "metadata": {
    "colab": {
      "name": "03 Covid.ipynb",
      "provenance": [],
      "collapsed_sections": [],
      "include_colab_link": true
    },
    "kernelspec": {
      "name": "python3",
      "display_name": "Python 3"
    },
    "accelerator": "GPU"
  },
  "cells": [
    {
      "cell_type": "markdown",
      "metadata": {
        "id": "view-in-github",
        "colab_type": "text"
      },
      "source": [
        "<a href=\"https://colab.research.google.com/github/rabbi123080/A-Comparative-Study-of-Classification-Approaches-for-COVID-19-Prediction/blob/main/03_Covid.ipynb\" target=\"_parent\"><img src=\"https://colab.research.google.com/assets/colab-badge.svg\" alt=\"Open In Colab\"/></a>"
      ]
    },
    {
      "cell_type": "code",
      "metadata": {
        "id": "shfP6kAxUyrx"
      },
      "source": [
        "import keras\n",
        "from keras.layers import *\n",
        "from keras.models import * "
      ],
      "execution_count": null,
      "outputs": []
    },
    {
      "cell_type": "code",
      "metadata": {
        "id": "38xxp1NSVFcl"
      },
      "source": [
        "model = Sequential()"
      ],
      "execution_count": null,
      "outputs": []
    },
    {
      "cell_type": "code",
      "metadata": {
        "id": "auaVV-3KVO3c"
      },
      "source": [
        "model.add(Conv2D(64, (3, 3), input_shape = (64, 64, 3), activation ='relu'))\n",
        "model.add(Conv2D(64,(3,3),activation='relu'))\n",
        "model.add(MaxPooling2D(pool_size = (2,2)))"
      ],
      "execution_count": null,
      "outputs": []
    },
    {
      "cell_type": "code",
      "metadata": {
        "id": "kmR2JhJij5tK"
      },
      "source": [
        "model.add(Conv2D(128,(3,3),activation='relu'))\n",
        "model.add(MaxPooling2D(pool_size=(2,2)))"
      ],
      "execution_count": null,
      "outputs": []
    },
    {
      "cell_type": "code",
      "metadata": {
        "id": "DjG7Ca6tj8M2"
      },
      "source": [
        "model.add(Conv2D(128,(3,3),activation='relu'))\n",
        "model.add(MaxPooling2D(pool_size=(2,2)))"
      ],
      "execution_count": null,
      "outputs": []
    },
    {
      "cell_type": "code",
      "metadata": {
        "id": "M7akFJAYWXcn"
      },
      "source": [
        "model.add(Flatten())"
      ],
      "execution_count": null,
      "outputs": []
    },
    {
      "cell_type": "code",
      "metadata": {
        "id": "jJP1nk5e6W82",
        "colab": {
          "base_uri": "https://localhost:8080/",
          "height": 34
        },
        "outputId": "497d7601-a45c-4986-debd-107ef5d7c191"
      },
      "source": [
        "import tensorflow as tf\n",
        "tf.keras.metrics.AUC(\n",
        "    num_thresholds=200,\n",
        "    curve=\"ROC\",\n",
        "    summation_method=\"interpolation\",\n",
        "    name=None,\n",
        "    dtype=None,\n",
        "    thresholds=None,\n",
        "    multi_label=False,\n",
        "    label_weights=None,\n",
        ")\n",
        "tf.keras.metrics.Precision(\n",
        "    thresholds=None, top_k=None, class_id=None, name=None, dtype=None\n",
        ")\n",
        "tf.keras.metrics.Recall(\n",
        "    thresholds=None, top_k=None, class_id=None, name=None, dtype=None\n",
        ")\n"
      ],
      "execution_count": null,
      "outputs": [
        {
          "output_type": "execute_result",
          "data": {
            "text/plain": [
              "<tensorflow.python.keras.metrics.Recall at 0x7fb47728efd0>"
            ]
          },
          "metadata": {
            "tags": []
          },
          "execution_count": 63
        }
      ]
    },
    {
      "cell_type": "code",
      "metadata": {
        "id": "-dCYQ-HRWh_f"
      },
      "source": [
        "model.add(Dense(units=128, activation='relu'))\n",
        "model.add(Dense(units=256, activation='relu'))\n",
        "model.add(Dense(units=1, activation='sigmoid'))"
      ],
      "execution_count": null,
      "outputs": []
    },
    {
      "cell_type": "code",
      "metadata": {
        "id": "bPuJLoPHW05g"
      },
      "source": [
        "model.compile(optimizer='Adam', loss='binary_crossentropy', metrics=['accuracy', tf.keras.metrics.AUC(), tf.keras.metrics.Precision(), tf.keras.metrics.Recall(), sensitivity, specificity])"
      ],
      "execution_count": null,
      "outputs": []
    },
    {
      "cell_type": "code",
      "metadata": {
        "id": "5CSUgBZQW4B8",
        "colab": {
          "base_uri": "https://localhost:8080/",
          "height": 527
        },
        "outputId": "548419ad-1e46-4f20-ebce-18db29b40c67"
      },
      "source": [
        "model.summary()"
      ],
      "execution_count": null,
      "outputs": [
        {
          "output_type": "stream",
          "text": [
            "Model: \"sequential_3\"\n",
            "_________________________________________________________________\n",
            "Layer (type)                 Output Shape              Param #   \n",
            "=================================================================\n",
            "conv2d_9 (Conv2D)            (None, 62, 62, 64)        1792      \n",
            "_________________________________________________________________\n",
            "conv2d_10 (Conv2D)           (None, 60, 60, 64)        36928     \n",
            "_________________________________________________________________\n",
            "max_pooling2d_7 (MaxPooling2 (None, 30, 30, 64)        0         \n",
            "_________________________________________________________________\n",
            "conv2d_11 (Conv2D)           (None, 28, 28, 128)       73856     \n",
            "_________________________________________________________________\n",
            "max_pooling2d_8 (MaxPooling2 (None, 14, 14, 128)       0         \n",
            "_________________________________________________________________\n",
            "conv2d_12 (Conv2D)           (None, 12, 12, 128)       147584    \n",
            "_________________________________________________________________\n",
            "max_pooling2d_9 (MaxPooling2 (None, 6, 6, 128)         0         \n",
            "_________________________________________________________________\n",
            "flatten_3 (Flatten)          (None, 4608)              0         \n",
            "_________________________________________________________________\n",
            "dense_4 (Dense)              (None, 128)               589952    \n",
            "_________________________________________________________________\n",
            "dense_5 (Dense)              (None, 256)               33024     \n",
            "_________________________________________________________________\n",
            "dense_6 (Dense)              (None, 1)                 257       \n",
            "=================================================================\n",
            "Total params: 883,393\n",
            "Trainable params: 883,393\n",
            "Non-trainable params: 0\n",
            "_________________________________________________________________\n"
          ],
          "name": "stdout"
        }
      ]
    },
    {
      "cell_type": "code",
      "metadata": {
        "id": "STX_wadFkM-e",
        "colab": {
          "base_uri": "https://localhost:8080/",
          "height": 1000
        },
        "outputId": "cb813716-3969-4dc4-c2ba-5e65d6895f70"
      },
      "source": [
        "from keras.preprocessing.image import ImageDataGenerator\n",
        "train_datagen = ImageDataGenerator(\n",
        "        rescale=1./255, # Normalizing the scale of the pixels\n",
        "        shear_range=0.2,\n",
        "        zoom_range=0.2,\n",
        "        horizontal_flip=True)\n",
        "\n",
        "test_datagen = ImageDataGenerator(rescale=1./255)\n",
        "\n",
        "training_set = train_datagen.flow_from_directory('/content/drive/My Drive/Covid1200/Train',\n",
        "                                                 target_size=(64, 64),\n",
        "                                                 batch_size=32,\n",
        "                                                 class_mode='binary')\n",
        "\n",
        "test_set = test_datagen.flow_from_directory('/content/drive/My Drive/Covid1200/Test',\n",
        "                                            target_size=(64, 64),\n",
        "                                            batch_size=32,\n",
        "                                            class_mode='binary')\n",
        "\n",
        "model.fit_generator(training_set,\n",
        "                         steps_per_epoch = (1986/32),\n",
        "                         epochs = 100,\n",
        "                         validation_data = test_set,\n",
        "                         validation_steps = (495/32))"
      ],
      "execution_count": null,
      "outputs": [
        {
          "output_type": "stream",
          "text": [
            "Found 1986 images belonging to 2 classes.\n",
            "Found 495 images belonging to 2 classes.\n",
            "Epoch 1/100\n",
            "63/62 [==============================] - 84s 1s/step - loss: 0.6903 - accuracy: 0.5312 - auc_5: 0.5222 - precision_5: 0.4968 - recall_5: 0.2168 - sensitivity: 0.3902 - specificity: 0.6654 - val_loss: 0.6463 - val_accuracy: 0.5293 - val_auc_5: 0.5423 - val_precision_5: 0.5297 - val_recall_5: 0.4684 - val_sensitivity: 1.0000 - val_specificity: 0.0809\n",
            "Epoch 2/100\n",
            "63/62 [==============================] - 82s 1s/step - loss: 0.6417 - accuracy: 0.6435 - auc_5: 0.5848 - precision_5: 0.5514 - recall_5: 0.5816 - sensitivity: 0.7259 - specificity: 0.5482 - val_loss: 0.4563 - val_accuracy: 0.7354 - val_auc_5: 0.6348 - val_precision_5: 0.5768 - val_recall_5: 0.6351 - val_sensitivity: 0.9470 - val_specificity: 0.5293\n",
            "Epoch 3/100\n",
            "63/62 [==============================] - 82s 1s/step - loss: 0.6056 - accuracy: 0.6793 - auc_5: 0.6673 - precision_5: 0.5962 - recall_5: 0.6679 - sensitivity: 0.7361 - specificity: 0.6106 - val_loss: 0.7406 - val_accuracy: 0.6505 - val_auc_5: 0.6800 - val_precision_5: 0.6076 - val_recall_5: 0.6653 - val_sensitivity: 0.4357 - val_specificity: 0.8503\n",
            "Epoch 4/100\n",
            "63/62 [==============================] - 81s 1s/step - loss: 0.5741 - accuracy: 0.7034 - auc_5: 0.6902 - precision_5: 0.6185 - recall_5: 0.6646 - sensitivity: 0.7508 - specificity: 0.6378 - val_loss: 0.5395 - val_accuracy: 0.7535 - val_auc_5: 0.7064 - val_precision_5: 0.6276 - val_recall_5: 0.6843 - val_sensitivity: 0.9250 - val_specificity: 0.5814\n",
            "Epoch 5/100\n",
            "63/62 [==============================] - 81s 1s/step - loss: 0.5525 - accuracy: 0.7195 - auc_5: 0.7172 - precision_5: 0.6354 - recall_5: 0.6942 - sensitivity: 0.7354 - specificity: 0.6998 - val_loss: 0.5477 - val_accuracy: 0.7737 - val_auc_5: 0.7286 - val_precision_5: 0.6437 - val_recall_5: 0.7022 - val_sensitivity: 0.8111 - val_specificity: 0.7085\n",
            "Epoch 6/100\n",
            "63/62 [==============================] - 81s 1s/step - loss: 0.5013 - accuracy: 0.7513 - auc_5: 0.7413 - precision_5: 0.6527 - recall_5: 0.7117 - sensitivity: 0.7602 - specificity: 0.7331 - val_loss: 0.5264 - val_accuracy: 0.7960 - val_auc_5: 0.7511 - val_precision_5: 0.6597 - val_recall_5: 0.7183 - val_sensitivity: 0.9312 - val_specificity: 0.6688\n",
            "Epoch 7/100\n",
            "63/62 [==============================] - 86s 1s/step - loss: 0.5018 - accuracy: 0.7598 - auc_5: 0.7595 - precision_5: 0.6651 - recall_5: 0.7261 - sensitivity: 0.7859 - specificity: 0.7317 - val_loss: 0.2025 - val_accuracy: 0.8404 - val_auc_5: 0.7675 - val_precision_5: 0.6714 - val_recall_5: 0.7327 - val_sensitivity: 0.9006 - val_specificity: 0.7901\n",
            "Epoch 8/100\n",
            "63/62 [==============================] - 81s 1s/step - loss: 0.4730 - accuracy: 0.7860 - auc_5: 0.7761 - precision_5: 0.6788 - recall_5: 0.7393 - sensitivity: 0.7916 - specificity: 0.7750 - val_loss: 0.1937 - val_accuracy: 0.8485 - val_auc_5: 0.7833 - val_precision_5: 0.6850 - val_recall_5: 0.7444 - val_sensitivity: 0.9159 - val_specificity: 0.7987\n",
            "Epoch 9/100\n",
            "63/62 [==============================] - 80s 1s/step - loss: 0.4613 - accuracy: 0.7925 - auc_5: 0.7908 - precision_5: 0.6910 - recall_5: 0.7504 - sensitivity: 0.8158 - specificity: 0.7748 - val_loss: 0.5238 - val_accuracy: 0.8525 - val_auc_5: 0.7961 - val_precision_5: 0.6964 - val_recall_5: 0.7533 - val_sensitivity: 0.8145 - val_specificity: 0.8817\n",
            "Epoch 10/100\n",
            "63/62 [==============================] - 80s 1s/step - loss: 0.4759 - accuracy: 0.7774 - auc_5: 0.8016 - precision_5: 0.7017 - recall_5: 0.7561 - sensitivity: 0.7866 - specificity: 0.7542 - val_loss: 0.3251 - val_accuracy: 0.8061 - val_auc_5: 0.8045 - val_precision_5: 0.7045 - val_recall_5: 0.7575 - val_sensitivity: 0.8215 - val_specificity: 0.7949\n",
            "Epoch 11/100\n",
            "63/62 [==============================] - 81s 1s/step - loss: 0.4567 - accuracy: 0.7941 - auc_5: 0.8076 - precision_5: 0.7075 - recall_5: 0.7596 - sensitivity: 0.7969 - specificity: 0.7795 - val_loss: 0.4104 - val_accuracy: 0.8283 - val_auc_5: 0.8119 - val_precision_5: 0.7125 - val_recall_5: 0.7614 - val_sensitivity: 0.7026 - val_specificity: 0.9386\n",
            "Epoch 12/100\n",
            "63/62 [==============================] - 81s 1s/step - loss: 0.4459 - accuracy: 0.7956 - auc_5: 0.8153 - precision_5: 0.7161 - recall_5: 0.7628 - sensitivity: 0.8243 - specificity: 0.7675 - val_loss: 0.2469 - val_accuracy: 0.8667 - val_auc_5: 0.8190 - val_precision_5: 0.7191 - val_recall_5: 0.7661 - val_sensitivity: 0.8710 - val_specificity: 0.8631\n",
            "Epoch 13/100\n",
            "63/62 [==============================] - 81s 1s/step - loss: 0.4215 - accuracy: 0.8157 - auc_5: 0.8226 - precision_5: 0.7228 - recall_5: 0.7685 - sensitivity: 0.8163 - specificity: 0.8025 - val_loss: 0.3728 - val_accuracy: 0.8727 - val_auc_5: 0.8264 - val_precision_5: 0.7265 - val_recall_5: 0.7718 - val_sensitivity: 0.8802 - val_specificity: 0.8701\n",
            "Epoch 14/100\n",
            "63/62 [==============================] - 81s 1s/step - loss: 0.3754 - accuracy: 0.8404 - auc_5: 0.8304 - precision_5: 0.7299 - recall_5: 0.7749 - sensitivity: 0.8711 - specificity: 0.8016 - val_loss: 0.1742 - val_accuracy: 0.8586 - val_auc_5: 0.8346 - val_precision_5: 0.7338 - val_recall_5: 0.7783 - val_sensitivity: 0.8074 - val_specificity: 0.9142\n",
            "Epoch 15/100\n",
            "63/62 [==============================] - 81s 1s/step - loss: 0.3640 - accuracy: 0.8404 - auc_5: 0.8383 - precision_5: 0.7373 - recall_5: 0.7811 - sensitivity: 0.8480 - specificity: 0.8177 - val_loss: 0.3405 - val_accuracy: 0.8707 - val_auc_5: 0.8418 - val_precision_5: 0.7404 - val_recall_5: 0.7834 - val_sensitivity: 0.8043 - val_specificity: 0.9287\n",
            "Epoch 16/100\n",
            "63/62 [==============================] - 81s 1s/step - loss: 0.3862 - accuracy: 0.8303 - auc_5: 0.8448 - precision_5: 0.7432 - recall_5: 0.7856 - sensitivity: 0.8472 - specificity: 0.8061 - val_loss: 0.1973 - val_accuracy: 0.8263 - val_auc_5: 0.8471 - val_precision_5: 0.7448 - val_recall_5: 0.7888 - val_sensitivity: 0.9930 - val_specificity: 0.6593\n",
            "Epoch 17/100\n",
            "63/62 [==============================] - 81s 1s/step - loss: 0.4584 - accuracy: 0.7860 - auc_5: 0.8475 - precision_5: 0.7446 - recall_5: 0.7910 - sensitivity: 0.8166 - specificity: 0.7277 - val_loss: 0.2573 - val_accuracy: 0.8626 - val_auc_5: 0.8494 - val_precision_5: 0.7462 - val_recall_5: 0.7923 - val_sensitivity: 0.8443 - val_specificity: 0.8875\n",
            "Epoch 18/100\n",
            "63/62 [==============================] - 81s 1s/step - loss: 0.3470 - accuracy: 0.8444 - auc_5: 0.8518 - precision_5: 0.7486 - recall_5: 0.7938 - sensitivity: 0.8420 - specificity: 0.8320 - val_loss: 0.2165 - val_accuracy: 0.8808 - val_auc_5: 0.8548 - val_precision_5: 0.7513 - val_recall_5: 0.7963 - val_sensitivity: 0.9597 - val_specificity: 0.7995\n",
            "Epoch 19/100\n",
            "63/62 [==============================] - 80s 1s/step - loss: 0.3132 - accuracy: 0.8756 - auc_5: 0.8576 - precision_5: 0.7537 - recall_5: 0.7994 - sensitivity: 0.9141 - specificity: 0.8451 - val_loss: 0.1687 - val_accuracy: 0.9131 - val_auc_5: 0.8608 - val_precision_5: 0.7567 - val_recall_5: 0.8027 - val_sensitivity: 0.9174 - val_specificity: 0.9139\n",
            "Epoch 20/100\n",
            "63/62 [==============================] - 80s 1s/step - loss: 0.2853 - accuracy: 0.8766 - auc_5: 0.8639 - precision_5: 0.7595 - recall_5: 0.8053 - sensitivity: 0.9108 - specificity: 0.8307 - val_loss: 0.2748 - val_accuracy: 0.8848 - val_auc_5: 0.8666 - val_precision_5: 0.7620 - val_recall_5: 0.8075 - val_sensitivity: 0.8541 - val_specificity: 0.9082\n",
            "Epoch 21/100\n",
            "63/62 [==============================] - 80s 1s/step - loss: 0.3439 - accuracy: 0.8429 - auc_5: 0.8683 - precision_5: 0.7636 - recall_5: 0.8090 - sensitivity: 0.8878 - specificity: 0.8071 - val_loss: 0.2214 - val_accuracy: 0.8990 - val_auc_5: 0.8704 - val_precision_5: 0.7652 - val_recall_5: 0.8113 - val_sensitivity: 0.9645 - val_specificity: 0.8387\n",
            "Epoch 22/100\n",
            "63/62 [==============================] - 81s 1s/step - loss: 0.2910 - accuracy: 0.8797 - auc_5: 0.8726 - precision_5: 0.7673 - recall_5: 0.8136 - sensitivity: 0.9070 - specificity: 0.8506 - val_loss: 0.2556 - val_accuracy: 0.9212 - val_auc_5: 0.8751 - val_precision_5: 0.7698 - val_recall_5: 0.8158 - val_sensitivity: 0.9066 - val_specificity: 0.9227\n",
            "Epoch 23/100\n",
            "63/62 [==============================] - 81s 1s/step - loss: 0.2871 - accuracy: 0.8721 - auc_5: 0.8771 - precision_5: 0.7717 - recall_5: 0.8179 - sensitivity: 0.9111 - specificity: 0.8405 - val_loss: 0.3446 - val_accuracy: 0.8323 - val_auc_5: 0.8789 - val_precision_5: 0.7737 - val_recall_5: 0.8188 - val_sensitivity: 0.6778 - val_specificity: 0.9744\n",
            "Epoch 24/100\n",
            "63/62 [==============================] - 81s 1s/step - loss: 0.2558 - accuracy: 0.8902 - auc_5: 0.8810 - precision_5: 0.7760 - recall_5: 0.8200 - sensitivity: 0.9132 - specificity: 0.8695 - val_loss: 0.2418 - val_accuracy: 0.9192 - val_auc_5: 0.8831 - val_precision_5: 0.7781 - val_recall_5: 0.8217 - val_sensitivity: 0.8937 - val_specificity: 0.9414\n",
            "Epoch 25/100\n",
            "63/62 [==============================] - 81s 1s/step - loss: 0.2603 - accuracy: 0.8882 - auc_5: 0.8853 - precision_5: 0.7803 - recall_5: 0.8234 - sensitivity: 0.9049 - specificity: 0.8602 - val_loss: 0.2546 - val_accuracy: 0.9051 - val_auc_5: 0.8872 - val_precision_5: 0.7822 - val_recall_5: 0.8249 - val_sensitivity: 0.8719 - val_specificity: 0.9346\n",
            "Epoch 26/100\n",
            "63/62 [==============================] - 81s 1s/step - loss: 0.2435 - accuracy: 0.8993 - auc_5: 0.8892 - precision_5: 0.7844 - recall_5: 0.8268 - sensitivity: 0.9229 - specificity: 0.8774 - val_loss: 0.5063 - val_accuracy: 0.9232 - val_auc_5: 0.8912 - val_precision_5: 0.7864 - val_recall_5: 0.8285 - val_sensitivity: 0.9244 - val_specificity: 0.9187\n",
            "Epoch 27/100\n",
            "63/62 [==============================] - 81s 1s/step - loss: 0.2370 - accuracy: 0.8983 - auc_5: 0.8931 - precision_5: 0.7882 - recall_5: 0.8303 - sensitivity: 0.9243 - specificity: 0.8818 - val_loss: 0.0724 - val_accuracy: 0.9131 - val_auc_5: 0.8948 - val_precision_5: 0.7901 - val_recall_5: 0.8317 - val_sensitivity: 0.8748 - val_specificity: 0.9578\n",
            "Epoch 28/100\n",
            "63/62 [==============================] - 81s 1s/step - loss: 0.2212 - accuracy: 0.9094 - auc_5: 0.8966 - precision_5: 0.7922 - recall_5: 0.8332 - sensitivity: 0.9108 - specificity: 0.8963 - val_loss: 0.2867 - val_accuracy: 0.9051 - val_auc_5: 0.8983 - val_precision_5: 0.7941 - val_recall_5: 0.8345 - val_sensitivity: 0.8504 - val_specificity: 0.9575\n",
            "Epoch 29/100\n",
            "63/62 [==============================] - 81s 1s/step - loss: 0.2083 - accuracy: 0.9114 - auc_5: 0.8999 - precision_5: 0.7959 - recall_5: 0.8357 - sensitivity: 0.9207 - specificity: 0.9057 - val_loss: 0.2870 - val_accuracy: 0.9232 - val_auc_5: 0.9017 - val_precision_5: 0.7979 - val_recall_5: 0.8372 - val_sensitivity: 0.8879 - val_specificity: 0.9509\n",
            "Epoch 30/100\n",
            "63/62 [==============================] - 81s 1s/step - loss: 0.2190 - accuracy: 0.9104 - auc_5: 0.9033 - precision_5: 0.7996 - recall_5: 0.8386 - sensitivity: 0.9290 - specificity: 0.8807 - val_loss: 0.4465 - val_accuracy: 0.8990 - val_auc_5: 0.9048 - val_precision_5: 0.8014 - val_recall_5: 0.8398 - val_sensitivity: 0.8006 - val_specificity: 0.9817\n",
            "Epoch 31/100\n",
            "63/62 [==============================] - 81s 1s/step - loss: 0.2349 - accuracy: 0.9048 - auc_5: 0.9061 - precision_5: 0.8032 - recall_5: 0.8404 - sensitivity: 0.9046 - specificity: 0.8884 - val_loss: 0.2618 - val_accuracy: 0.8788 - val_auc_5: 0.9073 - val_precision_5: 0.8047 - val_recall_5: 0.8413 - val_sensitivity: 0.8254 - val_specificity: 0.9301\n",
            "Epoch 32/100\n",
            "63/62 [==============================] - 81s 1s/step - loss: 0.2404 - accuracy: 0.8943 - auc_5: 0.9083 - precision_5: 0.8060 - recall_5: 0.8421 - sensitivity: 0.8924 - specificity: 0.8835 - val_loss: 0.0712 - val_accuracy: 0.9192 - val_auc_5: 0.9096 - val_precision_5: 0.8073 - val_recall_5: 0.8433 - val_sensitivity: 0.9134 - val_specificity: 0.9306\n",
            "Epoch 33/100\n",
            "63/62 [==============================] - 81s 1s/step - loss: 0.2124 - accuracy: 0.9099 - auc_5: 0.9109 - precision_5: 0.8088 - recall_5: 0.8446 - sensitivity: 0.9286 - specificity: 0.8823 - val_loss: 0.0844 - val_accuracy: 0.9293 - val_auc_5: 0.9122 - val_precision_5: 0.8101 - val_recall_5: 0.8457 - val_sensitivity: 0.9252 - val_specificity: 0.9324\n",
            "Epoch 34/100\n",
            "63/62 [==============================] - 81s 1s/step - loss: 0.2317 - accuracy: 0.8998 - auc_5: 0.9133 - precision_5: 0.8113 - recall_5: 0.8470 - sensitivity: 0.9117 - specificity: 0.8802 - val_loss: 0.1970 - val_accuracy: 0.8667 - val_auc_5: 0.9141 - val_precision_5: 0.8125 - val_recall_5: 0.8475 - val_sensitivity: 0.7386 - val_specificity: 0.9893\n",
            "Epoch 35/100\n",
            "63/62 [==============================] - 82s 1s/step - loss: 0.2100 - accuracy: 0.9079 - auc_5: 0.9150 - precision_5: 0.8137 - recall_5: 0.8479 - sensitivity: 0.9080 - specificity: 0.8969 - val_loss: 0.1025 - val_accuracy: 0.9354 - val_auc_5: 0.9162 - val_precision_5: 0.8151 - val_recall_5: 0.8489 - val_sensitivity: 0.9132 - val_specificity: 0.9679\n",
            "Epoch 36/100\n",
            "63/62 [==============================] - 81s 1s/step - loss: 0.1832 - accuracy: 0.9235 - auc_5: 0.9175 - precision_5: 0.8167 - recall_5: 0.8502 - sensitivity: 0.9360 - specificity: 0.9132 - val_loss: 0.1402 - val_accuracy: 0.9192 - val_auc_5: 0.9186 - val_precision_5: 0.8180 - val_recall_5: 0.8511 - val_sensitivity: 0.8805 - val_specificity: 0.9546\n",
            "Epoch 37/100\n",
            "63/62 [==============================] - 81s 1s/step - loss: 0.2050 - accuracy: 0.9184 - auc_5: 0.9196 - precision_5: 0.8193 - recall_5: 0.8521 - sensitivity: 0.9327 - specificity: 0.9085 - val_loss: 0.3478 - val_accuracy: 0.9273 - val_auc_5: 0.9206 - val_precision_5: 0.8204 - val_recall_5: 0.8532 - val_sensitivity: 0.9578 - val_specificity: 0.8922\n",
            "Epoch 38/100\n",
            "63/62 [==============================] - 80s 1s/step - loss: 0.1683 - accuracy: 0.9335 - auc_5: 0.9217 - precision_5: 0.8218 - recall_5: 0.8545 - sensitivity: 0.9480 - specificity: 0.9234 - val_loss: 0.0751 - val_accuracy: 0.9232 - val_auc_5: 0.9229 - val_precision_5: 0.8231 - val_recall_5: 0.8556 - val_sensitivity: 0.8944 - val_specificity: 0.9537\n",
            "Epoch 39/100\n",
            "63/62 [==============================] - 82s 1s/step - loss: 0.2281 - accuracy: 0.9144 - auc_5: 0.9237 - precision_5: 0.8243 - recall_5: 0.8564 - sensitivity: 0.9297 - specificity: 0.8928 - val_loss: 0.1309 - val_accuracy: 0.9333 - val_auc_5: 0.9244 - val_precision_5: 0.8254 - val_recall_5: 0.8571 - val_sensitivity: 0.8938 - val_specificity: 0.9703\n",
            "Epoch 40/100\n",
            "63/62 [==============================] - 82s 1s/step - loss: 0.1814 - accuracy: 0.9260 - auc_5: 0.9254 - precision_5: 0.8267 - recall_5: 0.8581 - sensitivity: 0.9396 - specificity: 0.9156 - val_loss: 0.1628 - val_accuracy: 0.9333 - val_auc_5: 0.9263 - val_precision_5: 0.8277 - val_recall_5: 0.8590 - val_sensitivity: 0.9396 - val_specificity: 0.9343\n",
            "Epoch 41/100\n",
            "63/62 [==============================] - 81s 1s/step - loss: 0.1544 - accuracy: 0.9345 - auc_5: 0.9273 - precision_5: 0.8289 - recall_5: 0.8601 - sensitivity: 0.9432 - specificity: 0.9255 - val_loss: 0.4580 - val_accuracy: 0.9212 - val_auc_5: 0.9282 - val_precision_5: 0.8301 - val_recall_5: 0.8610 - val_sensitivity: 0.8782 - val_specificity: 0.9604\n",
            "Epoch 42/100\n",
            "63/62 [==============================] - 81s 1s/step - loss: 0.1312 - accuracy: 0.9436 - auc_5: 0.9292 - precision_5: 0.8313 - recall_5: 0.8618 - sensitivity: 0.9537 - specificity: 0.9357 - val_loss: 0.0409 - val_accuracy: 0.9374 - val_auc_5: 0.9303 - val_precision_5: 0.8326 - val_recall_5: 0.8629 - val_sensitivity: 0.9474 - val_specificity: 0.9318\n",
            "Epoch 43/100\n",
            "63/62 [==============================] - 84s 1s/step - loss: 0.1194 - accuracy: 0.9476 - auc_5: 0.9313 - precision_5: 0.8338 - recall_5: 0.8639 - sensitivity: 0.9504 - specificity: 0.9288 - val_loss: 0.1945 - val_accuracy: 0.9394 - val_auc_5: 0.9323 - val_precision_5: 0.8351 - val_recall_5: 0.8650 - val_sensitivity: 0.9500 - val_specificity: 0.9354\n",
            "Epoch 44/100\n",
            "63/62 [==============================] - 89s 1s/step - loss: 0.1482 - accuracy: 0.9355 - auc_5: 0.9331 - precision_5: 0.8361 - recall_5: 0.8658 - sensitivity: 0.9273 - specificity: 0.9278 - val_loss: 0.0712 - val_accuracy: 0.9374 - val_auc_5: 0.9340 - val_precision_5: 0.8371 - val_recall_5: 0.8668 - val_sensitivity: 0.9619 - val_specificity: 0.9042\n",
            "Epoch 45/100\n",
            "53/62 [========================>.....] - ETA: 11s - loss: 0.1363 - accuracy: 0.9442 - auc_5: 0.9347 - precision_5: 0.8380 - recall_5: 0.8676 - sensitivity: 0.9508 - specificity: 0.9227"
          ],
          "name": "stdout"
        }
      ]
    },
    {
      "cell_type": "code",
      "metadata": {
        "id": "R8tiOHwt8vmY",
        "colab": {
          "base_uri": "https://localhost:8080/",
          "height": 136
        },
        "outputId": "85938b58-45d8-406d-f843-28e865e54448"
      },
      "source": [
        "model.evaluate_generator(training_set)"
      ],
      "execution_count": null,
      "outputs": [
        {
          "output_type": "execute_result",
          "data": {
            "text/plain": [
              "[0.44834402203559875,\n",
              " 0.7426989078521729,\n",
              " 0.7710085511207581,\n",
              " 0.69087815284729,\n",
              " 0.7266839146614075,\n",
              " 0.8210978507995605,\n",
              " 0.6717641949653625]"
            ]
          },
          "metadata": {
            "tags": []
          },
          "execution_count": 39
        }
      ]
    },
    {
      "cell_type": "code",
      "metadata": {
        "id": "EswwlJhDenR1",
        "colab": {
          "base_uri": "https://localhost:8080/",
          "height": 54
        },
        "outputId": "e827f924-f818-4d65-978c-b042513e823b"
      },
      "source": [
        "print(model.evaluate_generator(test_set))"
      ],
      "execution_count": null,
      "outputs": [
        {
          "output_type": "stream",
          "text": [
            "[0.47043731808662415, 0.7535353302955627, 0.7810152173042297, 0.6968320608139038, 0.7469966411590576, 0.8698952198028564, 0.6433081030845642]\n"
          ],
          "name": "stdout"
        }
      ]
    },
    {
      "cell_type": "code",
      "metadata": {
        "id": "JU6KUdX5huIP"
      },
      "source": [
        "import numpy as np\n",
        "import matplotlib.pyplot as plt\n",
        "import keras\n",
        "from keras.layers import *\n",
        "from keras.models import * \n",
        "from keras.preprocessing import image"
      ],
      "execution_count": null,
      "outputs": []
    },
    {
      "cell_type": "code",
      "metadata": {
        "id": "8sK9_qJvfv1e",
        "colab": {
          "base_uri": "https://localhost:8080/",
          "height": 34
        },
        "outputId": "3e7de778-9c7b-4997-f12a-33c068d716e6"
      },
      "source": [
        "import os\n",
        "training_set.class_indices"
      ],
      "execution_count": null,
      "outputs": [
        {
          "output_type": "execute_result",
          "data": {
            "text/plain": [
              "{'Covid': 0, 'NonCovid': 1}"
            ]
          },
          "metadata": {
            "tags": []
          },
          "execution_count": 42
        }
      ]
    },
    {
      "cell_type": "code",
      "metadata": {
        "id": "ov5KV2kOgGsb"
      },
      "source": [
        "y_actual, y_test = [],[]"
      ],
      "execution_count": null,
      "outputs": []
    },
    {
      "cell_type": "code",
      "metadata": {
        "id": "X4LMaIh9gOBy"
      },
      "source": [
        "for i in os.listdir(\"/content/drive/My Drive/Covid1200/Test/NonCovid/\"):\n",
        "    img=image.load_img(\"/content/drive/My Drive/Covid1200/Test/NonCovid/\"+i,target_size=(64,64))\n",
        "    img=image.img_to_array(img)\n",
        "    img=np.expand_dims(img,axis=0)\n",
        "    pred=model.predict_classes(img)\n",
        "    y_test.append(pred[0,0])\n",
        "    y_actual.append(1)"
      ],
      "execution_count": null,
      "outputs": []
    },
    {
      "cell_type": "code",
      "metadata": {
        "id": "ch4IPD3ygf4c"
      },
      "source": [
        "for i in os.listdir(\"/content/drive/My Drive/Covid1200/Test/Covid/\"):\n",
        "    img=image.load_img(\"/content/drive/My Drive/Covid1200/Test/Covid/\"+i,target_size=(64,64))\n",
        "    img=image.img_to_array(img)\n",
        "    img=np.expand_dims(img,axis=0)\n",
        "    pred=model.predict_classes(img)\n",
        "    y_test.append(pred[0,0])\n",
        "    y_actual.append(0)"
      ],
      "execution_count": null,
      "outputs": []
    },
    {
      "cell_type": "code",
      "metadata": {
        "id": "WnPpFSW9iG_T"
      },
      "source": [
        "y_actual=np.array(y_actual)\n",
        "y_test=np.array(y_test)"
      ],
      "execution_count": null,
      "outputs": []
    },
    {
      "cell_type": "code",
      "metadata": {
        "id": "WqWbGKZLiJ-S"
      },
      "source": [
        "from sklearn.metrics import confusion_matrix\n",
        "import seaborn as sns\n",
        "cn=confusion_matrix(y_actual,y_test)"
      ],
      "execution_count": null,
      "outputs": []
    },
    {
      "cell_type": "code",
      "metadata": {
        "id": "r68iSotLiMw2",
        "colab": {
          "base_uri": "https://localhost:8080/",
          "height": 282
        },
        "outputId": "e458a426-a8ab-4717-f270-22c2c8b1fc33"
      },
      "source": [
        "sns.heatmap(cn,cmap=\"plasma\",annot=True) #0: Covid ; 1: Normal"
      ],
      "execution_count": null,
      "outputs": [
        {
          "output_type": "execute_result",
          "data": {
            "text/plain": [
              "<matplotlib.axes._subplots.AxesSubplot at 0x7fb46aeddb38>"
            ]
          },
          "metadata": {
            "tags": []
          },
          "execution_count": 48
        },
        {
          "output_type": "display_data",
          "data": {
            "image/png": "[encoded data removed]",
            "text/plain": [
              "<Figure size 432x288 with 2 Axes>"
            ]
          },
          "metadata": {
            "tags": [],
            "needs_background": "light"
          }
        }
      ]
    },
    {
      "cell_type": "code",
      "metadata": {
        "id": "mwAn4Y2MiPiW",
        "colab": {
          "base_uri": "https://localhost:8080/",
          "height": 51
        },
        "outputId": "641614c3-54d5-466c-e5d2-7b3a3be9d58a"
      },
      "source": [
        "confusion_matrix(y_actual,y_test)"
      ],
      "execution_count": null,
      "outputs": [
        {
          "output_type": "execute_result",
          "data": {
            "text/plain": [
              "array([[191,  59],\n",
              "       [ 64, 181]])"
            ]
          },
          "metadata": {
            "tags": []
          },
          "execution_count": 49
        }
      ]
    },
    {
      "cell_type": "code",
      "metadata": {
        "id": "CkiIINiUimzJ"
      },
      "source": [
        "from keras import backend as K\n",
        "\n",
        "def sensitivity(y_actual, y_test):\n",
        "    true_positives = K.sum(K.round(K.clip(y_actual * y_test, 0, 1)))\n",
        "    possible_positives = K.sum(K.round(K.clip(y_actual, 0, 1)))\n",
        "    return true_positives / (possible_positives + K.epsilon())\n",
        "\n",
        "def specificity(y_actual, y_test):\n",
        "    true_negatives = K.sum(K.round(K.clip((1-y_actual) * (1-y_test), 0, 1)))\n",
        "    possible_negatives = K.sum(K.round(K.clip(1-y_actual, 0, 1)))\n",
        "    return true_negatives / (possible_negatives + K.epsilon())\n"
      ],
      "execution_count": null,
      "outputs": []
    },
    {
      "cell_type": "code",
      "metadata": {
        "id": "4I7sVjnbjvAK",
        "colab": {
          "base_uri": "https://localhost:8080/",
          "height": 295
        },
        "outputId": "fa09d458-fe3c-41b9-b77c-4b426460a81c"
      },
      "source": [
        "import sklearn.metrics as metrics\n",
        "fpr, tpr, threshold = metrics.roc_curve(y_actual, y_test)\n",
        "roc_auc = metrics.auc(fpr, tpr)\n",
        "\n",
        "# method I: plt\n",
        "import matplotlib.pyplot as plt\n",
        "plt.title('Receiver Operating Characteristic')\n",
        "plt.plot(fpr, tpr, 'b', label = 'AUC = %0.2f' % roc_auc)\n",
        "plt.legend(loc = 'lower right')\n",
        "plt.plot([0, 1], [0, 1],'r--')\n",
        "plt.xlim([0, 1])\n",
        "plt.ylim([0, 1])\n",
        "plt.ylabel('True Positive Rate')\n",
        "plt.xlabel('False Positive Rate')\n",
        "plt.show()"
      ],
      "execution_count": null,
      "outputs": [
        {
          "output_type": "display_data",
          "data": {
            "image/png": "[encoded data removed]",
            "text/plain": [
              "<Figure size 432x288 with 1 Axes>"
            ]
          },
          "metadata": {
            "tags": [],
            "needs_background": "light"
          }
        }
      ]
    },
    {
      "cell_type": "code",
      "metadata": {
        "id": "hN97fvGxpr54"
      },
      "source": [
        ""
      ],
      "execution_count": null,
      "outputs": []
    }
  ]
}